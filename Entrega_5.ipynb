{
  "cells": [
    {
      "cell_type": "markdown",
      "id": "32d4586d-5dea-4d63-bc22-5fd2577b3fa7",
      "metadata": {
        "id": "32d4586d-5dea-4d63-bc22-5fd2577b3fa7"
      },
      "source": [
        "<h1>Entrega 5</h1>\n",
        "<p><b>Autores: Saúl Fernández Rodríguez, Cristian Sousa Vidal, Jacobo Rivas Lago, Alejandro Esperón Couceiro\n",
        "</b></p>"
      ]
    },
    {
      "cell_type": "markdown",
      "id": "c7a29491-45d0-4e26-b32a-27037046d289",
      "metadata": {
        "id": "c7a29491-45d0-4e26-b32a-27037046d289"
      },
      "source": [
        "<p>Siguiendo el ejercicio para clasificar las campañas de marketing directo del banco.</p>\n",
        "<ol>\n",
        "    <li><p>Crea un subconjunto del dataset de training (60%) validation (20%) y test (20%)</p></li>\n",
        "    <li><p>Hiperparametriza los valores del algoritmo Random Forest: <b>'n_estimator: </b>(100, 300, 500, 800, 1200). Mira cuál es el mejor parámetro (con el validation set)  y luego evalúalo con el test set</p>\n",
        "    <li><p>Haz lo mismo con los algoritmos de Naive Bayes y SVC (hiperparametrización y test) </p></li>\n",
        "    <li><p>¿Cuál ha ofrecido mejor rendimiento? ¿Qué conclusiones has podido obtener? </p></li>\n",
        "</ol>\n"
      ]
    },
    {
      "cell_type": "code",
      "execution_count": 2,
      "id": "29217d5a",
      "metadata": {
        "id": "29217d5a"
      },
      "outputs": [],
      "source": [
        "from pathlib import Path\n",
        "import csv\n",
        "\n",
        "path = Path.cwd()"
      ]
    },
    {
      "cell_type": "code",
      "execution_count": 3,
      "id": "16344043",
      "metadata": {
        "colab": {
          "base_uri": "https://localhost:8080/",
          "height": 140
        },
        "id": "16344043",
        "outputId": "de7423aa-dd50-4a2d-b1a4-7ad665575196"
      },
      "outputs": [],
      "source": [
        "bank_dict = {}\n",
        "number_rows=0\n",
        "with open (f\"{str(path)}/bank_data.csv\" , 'r', encoding=\"UTF8\") as csv_file:\n",
        "    rows = csv.reader(csv_file, delimiter=\";\")\n",
        "\n",
        "    for i, row in enumerate(rows):\n",
        "\n",
        "        if i != 0:\n",
        "            bank_dict[i] = {\n",
        "                \"age\": int(row[0]),\n",
        "                \"job\": row[1],\n",
        "                \"marital\": row[2],\n",
        "                \"education\": row[3],\n",
        "                \"default\": row[4],\n",
        "                \"housing\": row[5],\n",
        "                \"loan\": row[6],\n",
        "                \"contact\": row[7],\n",
        "                \"month\": row[8],\n",
        "                \"day_of_week\": row[9],\n",
        "                \"duration\": row[10],\n",
        "                \"campaign\": row[11],\n",
        "                \"pdays\": row[12],\n",
        "                \"previous\": row[13],\n",
        "                \"poutcome\": row[14],\n",
        "                \"y\": row[20],\n",
        "            }\n",
        "            number_rows += 1\n",
        "        else:\n",
        "            headers = row"
      ]
    },
    {
      "cell_type": "code",
      "execution_count": 4,
      "id": "b2755225",
      "metadata": {
        "id": "b2755225"
      },
      "outputs": [],
      "source": [
        "jobs = []\n",
        "marital = []\n",
        "education = []\n",
        "default = []\n",
        "housing = []\n",
        "loan = []\n",
        "contact = []\n",
        "month = []\n",
        "day_of_week = []\n",
        "poutcome = []\n",
        "\n",
        "for i, id in enumerate(bank_dict):\n",
        "    jobs.append(bank_dict[id][\"job\"])\n",
        "    marital.append(bank_dict[id][\"marital\"])\n",
        "    education.append(bank_dict[id][\"education\"])\n",
        "    default.append(bank_dict[id][\"default\"])\n",
        "    housing.append(bank_dict[id][\"housing\"])\n",
        "    loan.append(bank_dict[id][\"loan\"])\n",
        "    contact.append(bank_dict[id][\"contact\"])\n",
        "    month.append(bank_dict[id][\"month\"])\n",
        "    day_of_week.append(bank_dict[id][\"day_of_week\"])\n",
        "    month.append(bank_dict[id][\"month\"])\n",
        "    poutcome.append(bank_dict[id][\"poutcome\"])\n"
      ]
    },
    {
      "cell_type": "code",
      "execution_count": 5,
      "id": "0ff37460",
      "metadata": {
        "id": "0ff37460"
      },
      "outputs": [],
      "source": [
        "job_dict = {}\n",
        "for j, job in enumerate(set(jobs)):\n",
        "    job_dict[job] = j\n",
        "\n",
        "marital_dict = {}\n",
        "for j, mar in enumerate(set(marital)):\n",
        "    marital_dict[mar] = j\n",
        "\n",
        "education_dict = {}\n",
        "for j, edu in enumerate(set(education)):\n",
        "    education_dict[edu] = j\n",
        "\n",
        "unkown_yes_no_dict = {}\n",
        "unkown_yes_no_dict[\"yes\"] = 1\n",
        "unkown_yes_no_dict[\"no\"] = 0\n",
        "unkown_yes_no_dict[\"unknown\"] = 3\n",
        "\n",
        "cellular_telephone = {}\n",
        "cellular_telephone[\"cellular\"] = 0\n",
        "cellular_telephone[\"telephone\"] = 1\n",
        "\n",
        "months = {}\n",
        "months[\"jan\"] = 1\n",
        "months[\"feb\"] = 2\n",
        "months[\"mar\"] = 3\n",
        "months[\"apr\"] = 4\n",
        "months[\"may\"] = 5\n",
        "months[\"jun\"] = 6\n",
        "months[\"jul\"] = 7\n",
        "months[\"aug\"] = 8\n",
        "months[\"sep\"] = 9\n",
        "months[\"oct\"] = 10\n",
        "months[\"nov\"] = 11\n",
        "months[\"dec\"] = 12\n",
        "\n",
        "days_dict = {}\n",
        "days_dict[\"mon\"] = 1\n",
        "days_dict[\"tue\"] = 2\n",
        "days_dict[\"wed\"] = 3\n",
        "days_dict[\"thu\"] = 4\n",
        "days_dict[\"fri\"] = 5\n",
        "\n",
        "success_filure_nonexist = {}\n",
        "success_filure_nonexist[\"success\"] = 1\n",
        "success_filure_nonexist[\"failure\"] = 0\n",
        "success_filure_nonexist[\"nonexistent\"] = 2"
      ]
    },
    {
      "cell_type": "code",
      "execution_count": 6,
      "id": "3be3e9e0",
      "metadata": {
        "id": "3be3e9e0"
      },
      "outputs": [
        {
          "name": "stdout",
          "output_type": "stream",
          "text": [
            "{'age': 28, 'job': 11, 'marital': 0, 'education': 3, 'default': 0, 'housing': 1, 'loan': 0, 'contact': 0, 'month': 6, 'day_of_week': 4, 'duration': '339', 'campaign': '3', 'pdays': '6', 'previous': '2', 'poutcome': 1, 'y': '1'}\n",
            "------------------------------------------------------------\n",
            "{'age': 55, 'job': 3, 'marital': 2, 'education': 7, 'default': 0, 'housing': 1, 'loan': 0, 'contact': 0, 'month': 8, 'day_of_week': 5, 'duration': '137', 'campaign': '1', 'pdays': '3', 'previous': '1', 'poutcome': 1, 'y': '1'}\n",
            "------------------------------------------------------------\n",
            "{'age': 36, 'job': 6, 'marital': 2, 'education': 3, 'default': 0, 'housing': 0, 'loan': 0, 'contact': 0, 'month': 6, 'day_of_week': 1, 'duration': '174', 'campaign': '1', 'pdays': '3', 'previous': '1', 'poutcome': 1, 'y': '1'}\n",
            "------------------------------------------------------------\n",
            "{'age': 55, 'job': 11, 'marital': 2, 'education': 3, 'default': 0, 'housing': 0, 'loan': 0, 'contact': 0, 'month': 8, 'day_of_week': 1, 'duration': '372', 'campaign': '3', 'pdays': '999', 'previous': '0', 'poutcome': 2, 'y': '1'}\n",
            "------------------------------------------------------------\n",
            "{'age': 35, 'job': 0, 'marital': 2, 'education': 0, 'default': 0, 'housing': 0, 'loan': 0, 'contact': 0, 'month': 4, 'day_of_week': 4, 'duration': '1034', 'campaign': '2', 'pdays': '999', 'previous': '0', 'poutcome': 2, 'y': '1'}\n",
            "------------------------------------------------------------\n",
            "{'age': 27, 'job': 6, 'marital': 0, 'education': 3, 'default': 0, 'housing': 0, 'loan': 0, 'contact': 1, 'month': 10, 'day_of_week': 2, 'duration': '540', 'campaign': '1', 'pdays': '999', 'previous': '0', 'poutcome': 2, 'y': '1'}\n",
            "------------------------------------------------------------\n"
          ]
        }
      ],
      "source": [
        "import pickle\n",
        "\n",
        "preprocess_bank_dict = {}\n",
        "route_export = f\"{str(path)}/dataset_dict.pkl\"\n",
        "\n",
        "for i, id in enumerate(bank_dict):\n",
        "    preprocess_bank_dict[id] = {}\n",
        "    preprocess_bank_dict[id] = {\n",
        "        'age': bank_dict[id][\"age\"],\n",
        "        'job': job_dict[bank_dict[id][\"job\"]],\n",
        "        'marital': marital_dict[bank_dict[id][\"marital\"]],\n",
        "        'education': education_dict[bank_dict[id][\"education\"]],\n",
        "        'default': unkown_yes_no_dict[bank_dict[id][\"default\"]],\n",
        "        'housing': unkown_yes_no_dict[bank_dict[id][\"housing\"]],\n",
        "        'loan': unkown_yes_no_dict[bank_dict[id][\"loan\"]],\n",
        "        'contact': cellular_telephone[bank_dict[id][\"contact\"]],\n",
        "        'month': months[bank_dict[id][\"month\"]],\n",
        "        'day_of_week': days_dict[bank_dict[id][\"day_of_week\"]],\n",
        "        'duration': bank_dict[id][\"duration\"],\n",
        "        'campaign':  bank_dict[id][\"campaign\"],\n",
        "        'pdays': bank_dict[id][\"pdays\"],\n",
        "        'previous': bank_dict[id][\"previous\"],\n",
        "        'poutcome': success_filure_nonexist[bank_dict[id][\"poutcome\"]],\n",
        "        'y': bank_dict[id][\"y\"]\n",
        "    }\n",
        "\n",
        "\n",
        "for i, id in enumerate(preprocess_bank_dict):\n",
        "    print(preprocess_bank_dict[id])\n",
        "    print(\"---\"*20)\n",
        "    if i == 5:\n",
        "        break\n",
        "\n",
        "pickle.dump(preprocess_bank_dict, open(route_export, 'wb'))\n"
      ]
    },
    {
      "cell_type": "markdown",
      "id": "ca53a702",
      "metadata": {},
      "source": [
        "Métricas"
      ]
    },
    {
      "cell_type": "code",
      "execution_count": 7,
      "id": "204e9892",
      "metadata": {},
      "outputs": [],
      "source": [
        "from sklearn import metrics\n",
        "\n",
        "def metricas(y_test, y_pred):\n",
        "    print(\"Accuracy: \",metrics.accuracy_score(y_test,y_pred))\n",
        "    print(\"Precision: \",metrics.precision_score(y_test,y_pred))\n",
        "    print(\"Recall: \",metrics.recall_score(y_test,y_pred))\n",
        "    print(\"F1-Score: \",metrics.f1_score(y_test,y_pred))"
      ]
    },
    {
      "cell_type": "markdown",
      "id": "828f6aa0",
      "metadata": {},
      "source": [
        "Matriz de confusión"
      ]
    },
    {
      "cell_type": "code",
      "execution_count": 8,
      "id": "3c3b9ad4",
      "metadata": {},
      "outputs": [],
      "source": [
        "from sklearn.metrics import confusion_matrix, accuracy_score, mean_squared_error, classification_report\n",
        "import matplotlib.pyplot as plt\n",
        "import seaborn as sns\n",
        "\n",
        "def matriz_confusion(y_test, y_pred):\n",
        "    predictions = y_pred\n",
        "    cnf_matrix=confusion_matrix(y_test,predictions)\n",
        "    lfg, ax = plt.subplots(1)\n",
        "    ax =sns.heatmap(cnf_matrix, ax=ax, cmap=plt.cm.Greens,annot=True)\n",
        "    plt.title('Confusion matrix')\n",
        "    plt.ylabel('True category')\n",
        "    plt.xlabel('Predicted category')\n",
        "    plt.show()\n",
        "\n",
        "    print(classification_report(y_test,predictions))"
      ]
    },
    {
      "cell_type": "markdown",
      "id": "bd36588d",
      "metadata": {},
      "source": [
        "Subconjunto del dataset de training (60%) validation (20%) y test (20%)"
      ]
    },
    {
      "cell_type": "code",
      "execution_count": 9,
      "id": "26cecfff",
      "metadata": {
        "id": "26cecfff"
      },
      "outputs": [
        {
          "name": "stdout",
          "output_type": "stream",
          "text": [
            "[1, 2, 3, 4, 5, 6, 7, 8, 9, 10]\n",
            "[1, 1, 1, 1, 1, 1, 1, 1, 1, 1]\n"
          ]
        }
      ],
      "source": [
        "import numpy as np\n",
        "from sklearn.model_selection import train_test_split\n",
        "import csv\n",
        "\n",
        "route_export = f\"{str(path)}/dataset_dict.pkl\"\n",
        "dataset_dict = pickle.load(open(route_export, \"rb\"))\n",
        "\n",
        "x=[id for id in dataset_dict]\n",
        "y=[int(dataset_dict[id][\"y\"]) for id in dataset_dict]\n",
        "\n",
        "print(x[:10])\n",
        "print(y[:10])\n",
        "\n",
        "X_train, X_test, y_train, y_test = train_test_split(x, y, test_size=0.2, random_state=42)\n",
        "\n",
        "X_train, X_val, y_train, y_val = train_test_split(X_train, y_train, test_size=0.25, random_state=42)\n",
        "# 0.25 x 0.8 = 0.2\n"
      ]
    },
    {
      "cell_type": "markdown",
      "id": "89faa417",
      "metadata": {},
      "source": [
        "Random Forest"
      ]
    },
    {
      "cell_type": "code",
      "execution_count": 24,
      "id": "a7777e07",
      "metadata": {
        "id": "a7777e07"
      },
      "outputs": [],
      "source": [
        "from sklearn.ensemble import RandomForestClassifier\n",
        "train_array=[]\n",
        "\n",
        "for i,id in enumerate(X_train):\n",
        "    train_array.append([int(dataset_dict[id]['age']),\n",
        "                       int(dataset_dict[id]['job']),\n",
        "                        int(dataset_dict[id]['marital']),\n",
        "                        int(dataset_dict[id]['education']),\n",
        "                        int(dataset_dict[id]['default']),\n",
        "                        int(dataset_dict[id]['housing']),\n",
        "                        int(dataset_dict[id]['loan']),\n",
        "                        int(dataset_dict[id]['contact']),\n",
        "                        int(dataset_dict[id]['month']),\n",
        "                        int(dataset_dict[id]['day_of_week']),\n",
        "                        int(dataset_dict[id]['duration']),\n",
        "                        int(dataset_dict[id]['campaign']),\n",
        "                        int(dataset_dict[id]['pdays']),\n",
        "                        int(dataset_dict[id]['previous']),\n",
        "                        int(dataset_dict[id]['poutcome'])\n",
        "                       ])\n",
        "\n",
        "\n",
        "x_np = np.asarray(train_array)\n",
        "y_np = np.asarray(y_train)\n",
        "\n",
        "random_forest = RandomForestClassifier(max_depth=100, random_state=42,n_estimators=500)\n",
        "random_forest.fit(x_np,y_np)\n",
        "\n",
        "pickle.dump(random_forest, open(f\"{str(path)}/model.pkl\",'wb'))"
      ]
    },
    {
      "cell_type": "code",
      "execution_count": 11,
      "id": "80a2fae5",
      "metadata": {
        "id": "80a2fae5"
      },
      "outputs": [
        {
          "name": "stdout",
          "output_type": "stream",
          "text": [
            "Accuracy:  0.8347978910369068\n",
            "Precision:  0.8036093418259024\n",
            "Recall:  0.7985232067510548\n",
            "F1-Score:  0.801058201058201\n"
          ]
        }
      ],
      "source": [
        "random_forest = pickle.load(open(f\"{str(path)}/model.pkl\",'rb'))\n",
        "\n",
        "test_array=[]\n",
        "for i,id in enumerate(X_test):\n",
        "    test_array.append([int(dataset_dict[id]['age']),\n",
        "                       int(dataset_dict[id]['job']),\n",
        "                        int(dataset_dict[id]['marital']),\n",
        "                        int(dataset_dict[id]['education']),\n",
        "                        int(dataset_dict[id]['default']),\n",
        "                        int(dataset_dict[id]['housing']),\n",
        "                        int(dataset_dict[id]['loan']),\n",
        "                        int(dataset_dict[id]['contact']),\n",
        "                        int(dataset_dict[id]['month']),\n",
        "                        int(dataset_dict[id]['day_of_week']),\n",
        "                        int(dataset_dict[id]['duration']),\n",
        "                        int(dataset_dict[id]['campaign']),\n",
        "                        int(dataset_dict[id]['pdays']),\n",
        "                        int(dataset_dict[id]['previous']),\n",
        "                        int(dataset_dict[id]['poutcome'])\n",
        "                       ])\n",
        "\n",
        "x_test_np = np.asarray(test_array)\n",
        "y_test_np = np.asarray(y_test)\n",
        "\n",
        "y_pred = random_forest.predict(x_test_np)\n",
        "metricas(y_test, y_pred)"
      ]
    },
    {
      "cell_type": "code",
      "execution_count": 25,
      "id": "77a4e761",
      "metadata": {
        "id": "77a4e761"
      },
      "outputs": [
        {
          "data": {
            "image/png": "[encoded data removed]",
            "text/plain": [
              "<Figure size 640x480 with 2 Axes>"
            ]
          },
          "metadata": {},
          "output_type": "display_data"
        },
        {
          "name": "stdout",
          "output_type": "stream",
          "text": [
            "              precision    recall  f1-score   support\n",
            "\n",
            "           0       0.86      0.81      0.83      1328\n",
            "           1       0.75      0.81      0.78       948\n",
            "\n",
            "    accuracy                           0.81      2276\n",
            "   macro avg       0.80      0.81      0.80      2276\n",
            "weighted avg       0.81      0.81      0.81      2276\n",
            "\n"
          ]
        }
      ],
      "source": [
        "matriz_confusion(y_test, y_pred)"
      ]
    },
    {
      "cell_type": "markdown",
      "id": "408fd9e6",
      "metadata": {},
      "source": [
        "Naive Bayes"
      ]
    },
    {
      "cell_type": "code",
      "execution_count": 31,
      "id": "486650b2",
      "metadata": {
        "id": "486650b2"
      },
      "outputs": [
        {
          "name": "stdout",
          "output_type": "stream",
          "text": [
            "Mejores hiperparámetros para Gaussian Naive Bayes: {'priors': [0.2, 0.8], 'var_smoothing': 0.0001}\n",
            "Número de puntos mal clasificados de un total de 2276 puntos: 444\n",
            "Accuracy:  0.804920913884007\n",
            "Precision:  0.7837837837837838\n",
            "Recall:  0.7341772151898734\n",
            "F1-Score:  0.7581699346405228\n"
          ]
        }
      ],
      "source": [
        "#Gaussian Naive Bayes\n",
        "from sklearn.naive_bayes import GaussianNB\n",
        "from sklearn.model_selection import GridSearchCV\n",
        "\n",
        "# Definir los hiperparámetros a ajustar\n",
        "param_grid_gnb = {'priors': [None, [0.1, 0.9],[0.2, 0.8], [0.3, 0.7],[0.4,0.6],[0.5,0.5]], 'var_smoothing': [1e-9, 1e-8, 1e-7, 1e-6, 1e-5,  1e-4, 1e-3, 1e-2, 1e-1]}\n",
        "# Crear y entrenar el modelo de Gaussian Naive Bayes\n",
        "gnb = GaussianNB()\n",
        "\n",
        "# Realizar la búsqueda de hiperparámetros utilizando validación cruzada\n",
        "grid_search_gnb = GridSearchCV(gnb, param_grid_gnb, cv=5)\n",
        "grid_search_gnb.fit(x_np, y_np).predict(x_test_np)\n",
        "\n",
        "# Mostrar los mejores hiperparámetros\n",
        "print(\"Mejores hiperparámetros para Gaussian Naive Bayes:\", grid_search_gnb.best_params_)\n",
        "\n",
        "# Obtener el mejor modelo\n",
        "best_gnb_model = grid_search_gnb.best_estimator_\n",
        "\n",
        "# Realizar predicciones en el conjunto de prueba\n",
        "y_pred = best_gnb_model.predict(x_test_np)\n",
        "\n",
        "# Evaluar el rendimiento del mejor modelo\n",
        "print(\"Número de puntos mal clasificados de un total de %d puntos: %d\" % (x_test_np.shape[0], (y_test != y_pred).sum()))\n",
        "\n",
        "metricas(y_test, y_pred)"
      ]
    },
    {
      "cell_type": "code",
      "execution_count": 27,
      "id": "fe9b00fd",
      "metadata": {},
      "outputs": [
        {
          "data": {
            "image/png": "[encoded data removed]",
            "text/plain": [
              "<Figure size 640x480 with 2 Axes>"
            ]
          },
          "metadata": {},
          "output_type": "display_data"
        },
        {
          "name": "stdout",
          "output_type": "stream",
          "text": [
            "              precision    recall  f1-score   support\n",
            "\n",
            "           0       0.74      0.87      0.80      1328\n",
            "           1       0.75      0.57      0.65       948\n",
            "\n",
            "    accuracy                           0.74      2276\n",
            "   macro avg       0.75      0.72      0.72      2276\n",
            "weighted avg       0.74      0.74      0.73      2276\n",
            "\n"
          ]
        }
      ],
      "source": [
        "matriz_confusion(y_test, y_pred)"
      ]
    },
    {
      "cell_type": "markdown",
      "id": "13728312",
      "metadata": {},
      "source": [
        "SVC"
      ]
    },
    {
      "cell_type": "code",
      "execution_count": 28,
      "id": "910a3e5c",
      "metadata": {
        "id": "910a3e5c"
      },
      "outputs": [
        {
          "name": "stdout",
          "output_type": "stream",
          "text": [
            "Mejores hiperparámetros para SVC: {'C': 10000, 'cache_size': 200, 'class_weight': 'balanced', 'coef0': 0.0, 'decision_function_shape': 'ovo', 'degree': 3, 'gamma': 'scale', 'kernel': 'rbf', 'probability': True, 'shrinking': True, 'tol': 0.001, 'verbose': False}\n",
            "Número de puntos mal clasificados de un total de 2276 puntos: 437\n",
            "Accuracy SVC:  0.8079964850615114\n",
            "Accuracy:  0.8079964850615114\n",
            "Precision:  0.7492682926829268\n",
            "Recall:  0.810126582278481\n",
            "F1-Score:  0.7785098834262544\n"
          ]
        }
      ],
      "source": [
        "#SVC\n",
        "from sklearn.svm import SVC\n",
        "from sklearn.model_selection import GridSearchCV\n",
        "\n",
        "# Definir los hiperparámetros a ajustar\n",
        "param_grid_svc = {'C': [10000],'gamma': ['scale'], 'kernel': ['rbf'], 'degree':[3],'class_weight': ['balanced'], 'decision_function_shape': ['ovo'],   'probability': [True], 'coef0': [0.0], 'shrinking': [True], 'tol': [0.001], 'cache_size': [200], 'verbose': [False]}\n",
        "# Crear y entrenar el modelo de Support Vector Classifier (SVC)\n",
        "svc_model = SVC()\n",
        "\n",
        "# Realizar la búsqueda de hiperparámetros utilizando validación cruzada\n",
        "grid_search_svc = GridSearchCV(svc_model, param_grid_svc, cv=5)\n",
        "grid_search_svc.fit(x_np, y_np)\n",
        "\n",
        "# Mostrar los mejores hiperparámetros\n",
        "print(\"Mejores hiperparámetros para SVC:\", grid_search_svc.best_params_)\n",
        "\n",
        "# Obtener el mejor modelo\n",
        "best_svc_model = grid_search_svc.best_estimator_\n",
        "\n",
        "# Realizar predicciones en el conjunto de prueba\n",
        "y_pred = best_svc_model.predict(x_test_np)\n",
        "\n",
        "# Evaluar el rendimiento del mejor modelo\n",
        "print(\"Número de puntos mal clasificados de un total de %d puntos: %d\" % (x_test_np.shape[0], (y_test != y_pred).sum()))\n",
        "\n",
        "# Mostrar métricas de rendimiento del mejor modelo\n",
        "print(\"Accuracy SVC: \", metrics.accuracy_score(y_test, y_pred))\n",
        "\n",
        "metricas(y_test, y_pred)"
      ]
    },
    {
      "cell_type": "code",
      "execution_count": 29,
      "id": "ad17d521",
      "metadata": {},
      "outputs": [
        {
          "data": {
            "image/png": "[encoded data removed]",
            "text/plain": [
              "<Figure size 640x480 with 2 Axes>"
            ]
          },
          "metadata": {},
          "output_type": "display_data"
        },
        {
          "name": "stdout",
          "output_type": "stream",
          "text": [
            "              precision    recall  f1-score   support\n",
            "\n",
            "           0       0.86      0.81      0.83      1328\n",
            "           1       0.75      0.81      0.78       948\n",
            "\n",
            "    accuracy                           0.81      2276\n",
            "   macro avg       0.80      0.81      0.80      2276\n",
            "weighted avg       0.81      0.81      0.81      2276\n",
            "\n"
          ]
        }
      ],
      "source": [
        "matriz_confusion(y_test, y_pred)"
      ]
    },
    {
      "cell_type": "markdown",
      "id": "bfb849b2",
      "metadata": {},
      "source": [
        "Conclusiones de rendimiento:<br>\n",
        "El algoritmo que mejores resultados ha aportado ha sido Random Forest con los siguientes valores:<br>\n",
        "<ol>\n",
        "<li>Accuracy:  0.8347978910369068</li>\n",
        "<li>Precision:  0.8036093418259024</li>\n",
        "<li>Recall:  0.7985232067510548</li>\n",
        "<li>F1-Score:  0.801058201058201</li>\n",
        "</ol>\n",
        "<br>\n",
        "El número de estimators con valor 500 es la opción más viable, ya que es el valor que proporciona la accuracy y precision más altos. \n",
        "Su comportamiento se asemeja a una campana de Gauss, 300 obtiene mejor resultado que 100, y 500 mejor que 300, en cambio 800 y 1200 obtienen peores resultados que sus anteriores.\n"
      ]
    },
    {
      "cell_type": "markdown",
      "id": "67494bea",
      "metadata": {},
      "source": [
        "<br>\n",
        "Hemos podido concluir que en algunos casos se podrían poner valores mayores en algunos parámetros, como los parámetros C o gamma en el algoritmos SVC, obteniendo así mejores resultados en algunos casos (en otros como el parámetro n_es), pero con un coste computacional mucho mas elevado y un procesamiento bastante mas lento, por lo que hemos deidido buscar un punto medio entre mayor precisión y el tiempo de entrenamiento."
      ]
    },
    {
      "cell_type": "markdown",
      "id": "64056446",
      "metadata": {},
      "source": []
    }
  ],
  "metadata": {
    "colab": {
      "provenance": []
    },
    "kernelspec": {
      "display_name": "Python 3 (ipykernel)",
      "language": "python",
      "name": "python3"
    },
    "language_info": {
      "codemirror_mode": {
        "name": "ipython",
        "version": 3
      },
      "file_extension": ".py",
      "mimetype": "text/x-python",
      "name": "python",
      "nbconvert_exporter": "python",
      "pygments_lexer": "ipython3",
      "version": "3.11.7"
    }
  },
  "nbformat": 4,
  "nbformat_minor": 5
}
